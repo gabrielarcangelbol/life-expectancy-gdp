{
 "cells": [
  {
   "cell_type": "markdown",
   "metadata": {},
   "source": [
    "# Setting up the Project\n",
    "\n",
    "First we will have to download our data from **Life Expectancy and GDP project** and make sure our directory is set up for Jupyter notebook.\n",
    "\n",
    "1. Download the *Life Expectancy and GDP project*.\n",
    "2. Double-click on it to “unzip” the folder. It should contain several items:\n",
    "   - `all_data.csv`\n",
    "   - `life_expectancy_gdp.ipynb`\n",
    "3. In the command line, navigate into the unzipped file directory.\n",
    "4. Type the following into the command line:  \n",
    "   ```bash\n",
    "   jupyter notebook\n"
   ]
  }
 ],
 "metadata": {
  "kernelspec": {
   "display_name": "Python 3",
   "language": "python",
   "name": "python3"
  },
  "language_info": {
   "codemirror_mode": {
    "name": "ipython",
    "version": 3
   },
   "file_extension": ".py",
   "mimetype": "text/x-python",
   "name": "python",
   "nbconvert_exporter": "python",
   "pygments_lexer": "ipython3",
   "version": "3.7.6"
  }
 },
 "nbformat": 4,
 "nbformat_minor": 4
}
